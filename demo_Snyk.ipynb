{
  "nbformat": 4,
  "nbformat_minor": 0,
  "metadata": {
    "colab": {
      "provenance": [],
      "authorship_tag": "ABX9TyNsTRuM0YrBo3owUD28+R9a",
      "include_colab_link": true
    },
    "kernelspec": {
      "name": "python3",
      "display_name": "Python 3"
    },
    "language_info": {
      "name": "python"
    }
  },
  "cells": [
    {
      "cell_type": "markdown",
      "metadata": {
        "id": "view-in-github",
        "colab_type": "text"
      },
      "source": [
        "<a href=\"https://colab.research.google.com/github/KijoSal-dev/code-demo-Snyk/blob/main/demo_Snyk.ipynb\" target=\"_parent\"><img src=\"https://colab.research.google.com/assets/colab-badge.svg\" alt=\"Open In Colab\"/></a>"
      ]
    },
    {
      "cell_type": "code",
      "source": [
        "# 1.1: Install prerequisites\n",
        "#    pip install scikit-learn requests\n",
        "\n",
        "import json, subprocess, requests\n",
        "import numpy as np\n",
        "from sklearn.ensemble import IsolationForest\n",
        "import datetime\n",
        "\n",
        "# 1. Run Snyk CLI and capture JSON output\n",
        "try:\n",
        "    proc = subprocess.run(\n",
        "        [\"snyk\", \"test\", \"--json\"],\n",
        "        stdout=subprocess.PIPE,\n",
        "        check=True # This will raise CalledProcessError for non-zero exit codes\n",
        "    )\n",
        "    vulns = json.loads(proc.stdout)\n",
        "    # If we reach here, snyk test returned 0 (no vulnerabilities)\n",
        "    has_vulnerabilities = False\n",
        "except subprocess.CalledProcessError as e:\n",
        "    if e.returncode == 3:\n",
        "        # Exit code 3 means vulnerabilities were found.\n",
        "        # We can still process the output to get vulnerability details.\n",
        "        vulns = json.loads(e.stdout)\n",
        "        has_vulnerabilities = True\n",
        "    else:\n",
        "        # For any other non-zero exit code, re-raise the error\n",
        "        raise e\n",
        "except FileNotFoundError as e:\n",
        "    print(f\"Error: {e}. Please ensure Snyk CLI is installed and in your PATH.\")\n",
        "    vulns = None # Set vulns to None to indicate no vulnerabilities could be processed\n",
        "\n",
        "\n",
        "# 2. Extract features per vulnerability\n",
        "#    e.g., severity (0=low,1=medium,2=high,3=critical),\n",
        "#          package age (in days),\n",
        "#          num of vulnerable versions\n",
        "def extract_features(v):\n",
        "    sev_map = {\"low\":0,\"medium\":1,\"high\":2,\"critical\":3}\n",
        "    severity = sev_map.get(v[\"severity\"], 0) # Use .get with a default in case severity is missing\n",
        "    pkg_age = 0 # Default to 0\n",
        "    try:\n",
        "        # Attempt to get package age, handle potential errors\n",
        "        pkg_info = requests.get(f\"https://pypi.org/pypi/{v['packageName']}/json\").json()\n",
        "        # Find the release date of the earliest version\n",
        "        release_dates = []\n",
        "        for version_info in pkg_info.get('releases', {}).values():\n",
        "            for file_info in version_info:\n",
        "                if 'upload_time_iso_8601' in file_info:\n",
        "                    release_dates.append(file_info['upload_time_iso_8601'])\n",
        "\n",
        "        if release_dates:\n",
        "             first_release_date_str = min(release_dates)\n",
        "             # Handle potential timezone info in the date string\n",
        "             first_release_date = datetime.datetime.fromisoformat(first_release_date_str.replace('Z', '+00:00')).date()\n",
        "             pkg_age = (datetime.date.today() - first_release_date).days\n",
        "        else:\n",
        "            pkg_age = 0 # Default if no release dates found\n",
        "    except Exception as ex:\n",
        "        print(f\"Could not get package age for {v['packageName']}: {ex}\")\n",
        "        pkg_age = 0 # Default to 0 on error\n",
        "\n",
        "\n",
        "    versions = len(v.get(\"versions\", [])) # Use .get with a default for versions\n",
        "    return [severity, pkg_age, versions]\n",
        "\n",
        "# Ensure there are vulnerabilities to process before proceeding\n",
        "if vulns and \"vulnerabilities\" in vulns and len(vulns[\"vulnerabilities\"]) > 0:\n",
        "    X = np.array([extract_features(v) for v in vulns[\"vulnerabilities\"]])\n",
        "\n",
        "    # 3. Fit or load a pretrained Isolation Forest\n",
        "    #    In production, you’d persist this model and only call .predict()\n",
        "    # Only fit and predict if there are data points\n",
        "    if len(X) > 0:\n",
        "        iso = IsolationForest(contamination=0.05, random_state=0)\n",
        "        iso.fit(X)            # Train on historical data in a real setup\n",
        "        labels = iso.predict(X)  # -1 = anomaly, 1 = normal\n",
        "    else:\n",
        "        labels = [] # No vulnerabilities, no anomalies\n",
        "\n",
        "    # 4. Decision logic\n",
        "    # Check for critical vulnerabilities based on the parsed vulns data\n",
        "    has_critical = any(v.get(\"severity\") == \"critical\" for v in vulns.get(\"vulnerabilities\", []))\n",
        "    # Check for anomalies based on the generated labels\n",
        "    has_anomaly  = any(l == -1 for l in labels)\n",
        "\n",
        "    if has_critical or has_anomaly:\n",
        "        print(\"🚨 Security build failed\")\n",
        "        exit(1) # Exit with a non-zero code to indicate failure\n",
        "    else:\n",
        "        print(\"✅ Security checks passed\")\n",
        "        exit(0) # Exit with 0 to indicate success\n",
        "elif vulns is None:\n",
        "     # Snyk command failed to run (e.g., FileNotFoundError)\n",
        "     print(\"⚠️ Security checks inconclusive: Could not run Snyk.\")\n",
        "     exit(1) # Indicate failure as security checks could not be completed\n",
        "else:\n",
        "    # No vulnerabilities found by Snyk (exit code 0)\n",
        "    print(\"✅ Security checks passed (no vulnerabilities found by Snyk)\")\n",
        "    exit(0) # Exit with 0 to indicate success"
      ],
      "metadata": {
        "colab": {
          "base_uri": "https://localhost:8080/"
        },
        "id": "GFPG9BGRQZHv",
        "outputId": "407d347d-0bae-4052-b4b8-c896d20b0142"
      },
      "execution_count": 10,
      "outputs": [
        {
          "output_type": "stream",
          "name": "stdout",
          "text": [
            "✅ Security checks passed (no vulnerabilities found by Snyk)\n"
          ]
        }
      ]
    },
    {
      "cell_type": "markdown",
      "source": [
        "This script essentially automates a security check using the Snyk CLI and then applies an anomaly detection algorithm to the findings. Here's a breakdown:\n",
        "\n",
        "    Import Libraries: It imports necessary libraries: json for handling JSON data, subprocess for running external commands (like Snyk), requests for making HTTP requests (to PyPI), numpy for numerical operations, IsolationForest from sklearn.ensemble for anomaly detection, and datetime for working with dates.\n",
        "    Run Snyk CLI:\n",
        "        It attempts to run the Snyk CLI command snyk test --json. The --json flag tells Snyk to output the results in JSON format.\n",
        "        subprocess.run executes this command. stdout=subprocess.PIPE captures the standard output, and check=True normally raises an error if the command exits with a non-zero status.\n",
        "        A try...except block is used to handle potential errors.\n",
        "        It specifically catches subprocess.CalledProcessError. If the exit code is 3, it means Snyk found vulnerabilities, and the code proceeds to load the JSON output. For any other non-zero exit code, it re-raises the error.\n",
        "        It also catches FileNotFoundError in case the snyk command itself is not found (meaning Snyk CLI isn't installed or in the PATH).\n",
        "        The JSON output from Snyk (whether due to an error code 3 or success code 0) is loaded into the vulns variable. A boolean has_vulnerabilities is set based on whether the exit code was 3.\n",
        "    Extract Features (extract_features function):\n",
        "        This function takes a single vulnerability object (v) from the Snyk output as input.\n",
        "        It extracts relevant features for anomaly detection:\n",
        "            Severity: Maps Snyk's severity levels (\"low\", \"medium\", \"high\", \"critical\") to numerical values (0-3).\n",
        "            Package Age: Attempts to fetch information about the vulnerable package from PyPI using requests. It finds the earliest release date and calculates the age of the package in days. It includes error handling in case the PyPI request fails.\n",
        "            Number of Vulnerable Versions: Counts how many vulnerable versions are listed for the package in the Snyk output.\n",
        "        It returns a list containing these three features.\n",
        "    Prepare Data for Anomaly Detection:\n",
        "        It checks if vulns is not None (meaning Snyk ran) and if there are actual vulnerabilities listed in the Snyk output.\n",
        "        If vulnerabilities exist, it creates a NumPy array X where each row is the feature vector extracted by calling extract_features for each vulnerability.\n",
        "    Anomaly Detection (Isolation Forest):\n",
        "        If X is not empty (i.e., there are vulnerabilities to analyze), it initializes an IsolationForest model.\n",
        "            contamination=0.05 suggests that the model expects about 5% of the data points to be anomalies. You might need to adjust this based on your data.\n",
        "            random_state=0 ensures reproducibility.\n",
        "        iso.fit(X) trains the model on the extracted features. In a real-world scenario, you would typically train this model on historical vulnerability data to learn what \"normal\" vulnerabilities look like for your project.\n",
        "        labels = iso.predict(X) predicts whether each vulnerability is an anomaly (-1) or normal (1).\n",
        "    Decision Logic:\n",
        "        It checks if any of the vulnerabilities have a \"critical\" severity based on the original Snyk output.\n",
        "        It checks if any of the vulnerabilities were flagged as anomalies by the Isolation Forest model (any(l == -1 for l in labels)).\n",
        "        If either a critical vulnerability is found OR an anomaly is detected, it prints \"🚨 Security build failed\" and exits with a status code of 1 (indicating failure).\n",
        "        Otherwise (if no critical vulnerabilities and no anomalies), it prints \"✅ Security checks passed\" and exits with a status code of 0 (indicating success).\n",
        "        It also includes specific messages and exit codes for cases where Snyk could not be run (vulns is None) or if Snyk ran but found no vulnerabilities.\n",
        "\n",
        "In summary, the script uses Snyk to find vulnerabilities, extracts numerical features from these findings, and then uses an Isolation Forest model to identify vulnerabilities that are unusual or significantly different from the others, in addition to checking for critical vulnerabilities directly. This combined approach aims to flag builds that might have particularly risky or unexpected security issues."
      ],
      "metadata": {
        "id": "3wh6zmbJfhYT"
      }
    }
  ]
}